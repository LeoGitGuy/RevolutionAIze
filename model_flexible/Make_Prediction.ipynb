{
 "cells": [
  {
   "cell_type": "markdown",
   "metadata": {},
   "source": [
    "# Make predictions with pretrained model\n",
    "\n",
    "## Get model from Google drive\n",
    "\n",
    "get model from here: [Google Drive Link](https://drive.google.com/file/d/1WFgtt3RO0rFcO13y9CZapUjKwePP39al/view?usp=sharing)  \n",
    "and put in repo under ```model_flexible/model1.pt```\n",
    "\n",
    "\n",
    "## Load model"
   ]
  },
  {
   "cell_type": "code",
   "execution_count": null,
   "metadata": {},
   "outputs": [],
   "source": [
    "from make_prediction import *\n",
    "\n",
    "# path to model\n",
    "PATH = \"model1.pt\"\n",
    "loaded_model = torch.load(PATH, map_location=get_device())"
   ]
  },
  {
   "cell_type": "markdown",
   "metadata": {},
   "source": [
    "## Classify image\n",
    "\n",
    "Provide the ```classify_image(_)``` as first argument a 3x64x64 image (RGB). Second argument is the loaded model.3\n",
    "Output is the corresponding label"
   ]
  },
  {
   "cell_type": "code",
   "execution_count": null,
   "metadata": {},
   "outputs": [],
   "source": [
    "# Provide an image of size 64x64 to the function \"classify_image(_)\" and receive output\n",
    "img = Image.open(\"2750/PermanentCrop/PermanentCrop_615.jpg\")\n",
    "pred = classify_image(img, loaded_model)\n",
    "print(pred)"
   ]
  },
  {
   "cell_type": "code",
   "execution_count": null,
   "metadata": {},
   "outputs": [],
   "source": []
  }
 ],
 "metadata": {
  "interpreter": {
   "hash": "f5a9213441bdc3074b56d13a24aded49eb8bfa37f0ea08252f8b77880db5a183"
  },
  "kernelspec": {
   "display_name": "Python 3.8.10 ('pytorch')",
   "language": "python",
   "name": "python3"
  },
  "language_info": {
   "codemirror_mode": {
    "name": "ipython",
    "version": 3
   },
   "file_extension": ".py",
   "mimetype": "text/x-python",
   "name": "python",
   "nbconvert_exporter": "python",
   "pygments_lexer": "ipython3",
   "version": "3.8.10"
  },
  "orig_nbformat": 4
 },
 "nbformat": 4,
 "nbformat_minor": 2
}
